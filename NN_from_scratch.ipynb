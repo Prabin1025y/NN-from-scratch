{
  "nbformat": 4,
  "nbformat_minor": 0,
  "metadata": {
    "colab": {
      "provenance": [],
      "authorship_tag": "ABX9TyMv5fvlfYz7WPCUEsWCDEaH",
      "include_colab_link": true
    },
    "kernelspec": {
      "name": "python3",
      "display_name": "Python 3"
    },
    "language_info": {
      "name": "python"
    }
  },
  "cells": [
    {
      "cell_type": "markdown",
      "metadata": {
        "id": "view-in-github",
        "colab_type": "text"
      },
      "source": [
        "<a href=\"https://colab.research.google.com/github/Prabin1025y/NN-from-scratch/blob/main/NN_from_scratch.ipynb\" target=\"_parent\"><img src=\"https://colab.research.google.com/assets/colab-badge.svg\" alt=\"Open In Colab\"/></a>"
      ]
    },
    {
      "cell_type": "code",
      "execution_count": 24,
      "metadata": {
        "id": "I3LX1pnGlMnB"
      },
      "outputs": [],
      "source": [
        "import pandas as pd\n",
        "import numpy as np\n",
        "from matplotlib import pyplot as plt"
      ]
    },
    {
      "cell_type": "code",
      "source": [
        "df_train = pd.read_csv(\"/content/mnist_train.csv\")\n",
        "df_test = pd.read_csv(\"/content/mnist_test.csv\")\n",
        "df_train.shape"
      ],
      "metadata": {
        "colab": {
          "base_uri": "https://localhost:8080/"
        },
        "id": "ntSOdBYWnek0",
        "outputId": "365c80e2-22be-4fd7-f032-848371c7acb7"
      },
      "execution_count": 25,
      "outputs": [
        {
          "output_type": "execute_result",
          "data": {
            "text/plain": [
              "(60000, 785)"
            ]
          },
          "metadata": {},
          "execution_count": 25
        }
      ]
    },
    {
      "cell_type": "code",
      "source": [
        "rows, cols = df_train.shape\n",
        "data_train = np.array(df_train) #convert dataframe to numpy array"
      ],
      "metadata": {
        "id": "SxOBVPsZniG1"
      },
      "execution_count": 26,
      "outputs": []
    },
    {
      "cell_type": "code",
      "source": [
        "data = data_train.T #transpose it\n",
        "data"
      ],
      "metadata": {
        "colab": {
          "base_uri": "https://localhost:8080/"
        },
        "id": "pL77OdsWwPe1",
        "outputId": "37d94821-e9f2-418b-f7a6-ad1f43185fa5"
      },
      "execution_count": 27,
      "outputs": [
        {
          "output_type": "execute_result",
          "data": {
            "text/plain": [
              "array([[5, 0, 4, ..., 5, 6, 8],\n",
              "       [0, 0, 0, ..., 0, 0, 0],\n",
              "       [0, 0, 0, ..., 0, 0, 0],\n",
              "       ...,\n",
              "       [0, 0, 0, ..., 0, 0, 0],\n",
              "       [0, 0, 0, ..., 0, 0, 0],\n",
              "       [0, 0, 0, ..., 0, 0, 0]])"
            ]
          },
          "metadata": {},
          "execution_count": 27
        }
      ]
    },
    {
      "cell_type": "code",
      "source": [
        "X_train = data[1:cols]\n",
        "X_train = X_train/255 #normalize the intensity values\n",
        "Y_train = data[0]"
      ],
      "metadata": {
        "id": "3K7wVDo4waxD"
      },
      "execution_count": 28,
      "outputs": []
    },
    {
      "cell_type": "code",
      "source": [
        "def ReLU(x):\n",
        "  return np.maximum(0, x)\n"
      ],
      "metadata": {
        "id": "z5CHcz150FsY"
      },
      "execution_count": 29,
      "outputs": []
    },
    {
      "cell_type": "code",
      "source": [
        "def soft_max(x):\n",
        "  e_stable = np.exp(x - np.max(x, axis=0, keepdims=True)) #make the value stable so that is doesnt become exponentially large\n",
        "  return e_stable / sum(e_stable)"
      ],
      "metadata": {
        "id": "ke3kLNjA2Izp"
      },
      "execution_count": 30,
      "outputs": []
    },
    {
      "cell_type": "code",
      "source": [
        "def one_hot_encode(x, number_of_classes = 10):\n",
        "  encoded_x = np.zeros((len(x), number_of_classes))\n",
        "  for index, label in enumerate(x):\n",
        "    encoded_x[index][label] = 1\n",
        "  return encoded_x.T\n"
      ],
      "metadata": {
        "id": "XR3Vpe0w23tP"
      },
      "execution_count": 31,
      "outputs": []
    },
    {
      "cell_type": "code",
      "source": [
        "def derive_ReLU(x):\n",
        "  return x > 0"
      ],
      "metadata": {
        "id": "ZaD2ZXao9qyi"
      },
      "execution_count": 32,
      "outputs": []
    },
    {
      "cell_type": "code",
      "source": [
        "\n",
        "def init_params(X):\n",
        "  a0 = X\n",
        "  w1 = np.random.rand(10,784) - 0.5 #initialize random weight for firs connections\n",
        "  b1 = np.random.rand(10,1) - 0.5 #initialize random bias for first connections\n",
        "  w2 = np.random.rand(10,10) - 0.5\n",
        "  b2 = np.random.rand(10,1) - 0.5\n",
        "  return a0, w1, b1, w2, b2\n",
        "\n",
        "#forward propagation start to predict the outcome using weights and bias\n",
        "def forward_prop(a0, w1, b1, w2, b2):\n",
        "  z1 = w1.dot(a0) + b1\n",
        "  a1 = ReLU(z1)\n",
        "\n",
        "  z2 = w2.dot(a1) + b2\n",
        "  a2 = soft_max(z2)\n",
        "  return a1, z1, a2, z2\n",
        "\n",
        "#backward propagation to determine error and values to be changed\n",
        "def backward_prop(a0, a1, a2, z1, z2, w2, y_train):\n",
        "  m = a0.shape[1]\n",
        "  y_encoded = one_hot_encode(y_train)\n",
        "\n",
        "  dz2 = a2 - y_encoded\n",
        "  dw2 = (1/m) * dz2.dot(a1.T)\n",
        "  db2 = (1/m) * np.sum(dz2, axis=1, keepdims=True)\n",
        "\n",
        "  dz1 = w2.T.dot(dz2) * derive_ReLU(z1)\n",
        "  dw1 = (1/m) * dz1.dot(a0.T)\n",
        "  db1 = (1/m) * np.sum(dz1, axis=1, keepdims=True)\n",
        "\n",
        "  return dw1, db1, dw2, db2\n",
        "\n",
        "#optimize parameters using gradient descent\n",
        "def optimize_params(w1, b1, w2, b2, dw1, db1, dw2, db2, lr):\n",
        "  w1 = w1 - lr * dw1\n",
        "  b1 = b1 - lr * db1\n",
        "  w2 = w2 - lr * dw2\n",
        "  b2 = b2 - lr * db2\n",
        "  return w1, b1, w2, b2\n"
      ],
      "metadata": {
        "id": "q5izkES3xatd"
      },
      "execution_count": 33,
      "outputs": []
    },
    {
      "cell_type": "code",
      "source": [
        "def get_acc(a2, y):\n",
        "  return np.sum(np.argmax(a2,0) == y)/ y.size"
      ],
      "metadata": {
        "id": "W0sjMXVrDhdv"
      },
      "execution_count": 34,
      "outputs": []
    },
    {
      "cell_type": "code",
      "source": [
        "def gradient_descent(a0, w1, b1, w2, b2,Y,iterations, lr):\n",
        "\n",
        "  for i in range(iterations):\n",
        "    a1, z1, a2, z2 = forward_prop(a0, w1, b1, w2, b2)\n",
        "    dw1, db1, dw2, db2 = backward_prop(a0,a1,a2,z1,z2,w2,Y)\n",
        "    w1, b1, w2, b2 = optimize_params(w1, b1, w2, b2, dw1, db1, dw2, db2, lr)\n",
        "\n",
        "    if i%60 == 0:\n",
        "      print(\"Iteration: \", i)\n",
        "      print(\"Accuracy:\", get_acc(a2, Y))\n",
        "  return w1, b1, w2, b2"
      ],
      "metadata": {
        "id": "cuac9IOkAV-f"
      },
      "execution_count": 35,
      "outputs": []
    },
    {
      "cell_type": "code",
      "source": [
        "a0, w1, b1, w2, b2 = init_params(X_train)"
      ],
      "metadata": {
        "id": "ti9HP2qePTrb"
      },
      "execution_count": 36,
      "outputs": []
    },
    {
      "cell_type": "code",
      "source": [
        "w1, b1, w2, b2 = gradient_descent(a0, w1, b1, w2, b2, Y_train, 500, 0.1)"
      ],
      "metadata": {
        "colab": {
          "base_uri": "https://localhost:8080/"
        },
        "id": "Jy1WdzOjzqtk",
        "outputId": "45ee4d4e-75ac-4229-e590-fd371c6f4042"
      },
      "execution_count": 37,
      "outputs": [
        {
          "output_type": "stream",
          "name": "stdout",
          "text": [
            "Iteration:  0\n",
            "Accuracy: 0.1266\n",
            "Iteration:  60\n",
            "Accuracy: 0.35151666666666664\n",
            "Iteration:  120\n",
            "Accuracy: 0.5538\n",
            "Iteration:  180\n",
            "Accuracy: 0.6692333333333333\n",
            "Iteration:  240\n",
            "Accuracy: 0.7258333333333333\n",
            "Iteration:  300\n",
            "Accuracy: 0.7586\n",
            "Iteration:  360\n",
            "Accuracy: 0.7860666666666667\n",
            "Iteration:  420\n",
            "Accuracy: 0.8076\n",
            "Iteration:  480\n",
            "Accuracy: 0.8223833333333334\n"
          ]
        }
      ]
    },
    {
      "cell_type": "code",
      "source": [
        "def make_prediction(X, w1, b1, w2, b2):\n",
        "  ___, __, _, a2 = forward_prop(X, w1, b1, w2, b2)\n",
        "  prediction = np.argmax(a2, 0)\n",
        "  return prediction\n",
        "\n",
        "def test_prediction(X,Y, index, w1, b1, w2, b2):\n",
        "  current_image = X[:, index, None]\n",
        "  prediction = make_prediction(current_image, w1, b1, w2, b2)\n",
        "  label = Y[index]\n",
        "\n",
        "  print(\"prediction: \", prediction)\n",
        "  print(\"label: \", label)\n",
        "\n",
        "  current_image = current_image.reshape((28,28)) * 255\n",
        "  plt.gray()\n",
        "  plt.imshow(current_image, interpolation=\"nearest\")\n",
        "  plt.show()\n"
      ],
      "metadata": {
        "id": "iJ_HEjT5thFT"
      },
      "execution_count": 41,
      "outputs": []
    },
    {
      "cell_type": "code",
      "source": [
        "n, m = df_test.shape\n",
        "data_test = np.array(df_test)\n",
        "data_test = data_test.T\n",
        "Y_test = data_test[0]\n",
        "X_test = data_test[1:m]"
      ],
      "metadata": {
        "id": "XgVvMshK69Z4"
      },
      "execution_count": 42,
      "outputs": []
    },
    {
      "cell_type": "code",
      "source": [
        "for i in range(10):\n",
        "  index = np.random.randint(0, 10000)\n",
        "  print(\"index: \", index)\n",
        "  test_prediction(X_test, Y_test, index, w1, b1, w2, b2)"
      ],
      "metadata": {
        "colab": {
          "base_uri": "https://localhost:8080/",
          "height": 1000
        },
        "id": "Zm74MSJ78G6L",
        "outputId": "84d0d9cf-50f3-41a3-db17-7fd3edbe63cf"
      },
      "execution_count": 43,
      "outputs": [
        {
          "output_type": "stream",
          "name": "stdout",
          "text": [
            "index:  5078\n",
            "prediction:  [3]\n",
            "label:  3\n"
          ]
        },
        {
          "output_type": "display_data",
          "data": {
            "text/plain": [
              "<Figure size 640x480 with 1 Axes>"
            ],
            "image/png": "[encoded data removed]"
          },
          "metadata": {}
        },
        {
          "output_type": "stream",
          "name": "stdout",
          "text": [
            "index:  7291\n",
            "prediction:  [2]\n",
            "label:  2\n"
          ]
        },
        {
          "output_type": "display_data",
          "data": {
            "text/plain": [
              "<Figure size 640x480 with 1 Axes>"
            ],
            "image/png": "[encoded data removed]"
          },
          "metadata": {}
        },
        {
          "output_type": "stream",
          "name": "stdout",
          "text": [
            "index:  6927\n",
            "prediction:  [0]\n",
            "label:  0\n"
          ]
        },
        {
          "output_type": "display_data",
          "data": {
            "text/plain": [
              "<Figure size 640x480 with 1 Axes>"
            ],
            "image/png": "[encoded data removed]"
          },
          "metadata": {}
        },
        {
          "output_type": "stream",
          "name": "stdout",
          "text": [
            "index:  6306\n",
            "prediction:  [7]\n",
            "label:  7\n"
          ]
        },
        {
          "output_type": "display_data",
          "data": {
            "text/plain": [
              "<Figure size 640x480 with 1 Axes>"
            ],
            "image/png": "[encoded data removed]"
          },
          "metadata": {}
        },
        {
          "output_type": "stream",
          "name": "stdout",
          "text": [
            "index:  5032\n",
            "prediction:  [4]\n",
            "label:  4\n"
          ]
        },
        {
          "output_type": "display_data",
          "data": {
            "text/plain": [
              "<Figure size 640x480 with 1 Axes>"
            ],
            "image/png": "[encoded data removed]"
          },
          "metadata": {}
        },
        {
          "output_type": "stream",
          "name": "stdout",
          "text": [
            "index:  3781\n",
            "prediction:  [8]\n",
            "label:  8\n"
          ]
        },
        {
          "output_type": "display_data",
          "data": {
            "text/plain": [
              "<Figure size 640x480 with 1 Axes>"
            ],
            "image/png": "[encoded data removed]"
          },
          "metadata": {}
        },
        {
          "output_type": "stream",
          "name": "stdout",
          "text": [
            "index:  1695\n",
            "prediction:  [7]\n",
            "label:  9\n"
          ]
        },
        {
          "output_type": "display_data",
          "data": {
            "text/plain": [
              "<Figure size 640x480 with 1 Axes>"
            ],
            "image/png": "[encoded data removed]"
          },
          "metadata": {}
        },
        {
          "output_type": "stream",
          "name": "stdout",
          "text": [
            "index:  1551\n",
            "prediction:  [2]\n",
            "label:  2\n"
          ]
        },
        {
          "output_type": "display_data",
          "data": {
            "text/plain": [
              "<Figure size 640x480 with 1 Axes>"
            ],
            "image/png": "[encoded data removed]"
          },
          "metadata": {}
        },
        {
          "output_type": "stream",
          "name": "stdout",
          "text": [
            "index:  4812\n",
            "prediction:  [2]\n",
            "label:  2\n"
          ]
        },
        {
          "output_type": "display_data",
          "data": {
            "text/plain": [
              "<Figure size 640x480 with 1 Axes>"
            ],
            "image/png": "[encoded data removed]"
          },
          "metadata": {}
        },
        {
          "output_type": "stream",
          "name": "stdout",
          "text": [
            "index:  2061\n",
            "prediction:  [0]\n",
            "label:  0\n"
          ]
        },
        {
          "output_type": "display_data",
          "data": {
            "text/plain": [
              "<Figure size 640x480 with 1 Axes>"
            ],
            "image/png": "[encoded data removed]"
          },
          "metadata": {}
        }
      ]
    }
  ]
}