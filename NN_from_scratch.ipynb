{
  "nbformat": 4,
  "nbformat_minor": 0,
  "metadata": {
    "colab": {
      "provenance": [],
      "authorship_tag": "ABX9TyN/kjbqQT+UI405czWnEKaA",
      "include_colab_link": true
    },
    "kernelspec": {
      "name": "python3",
      "display_name": "Python 3"
    },
    "language_info": {
      "name": "python"
    }
  },
  "cells": [
    {
      "cell_type": "markdown",
      "metadata": {
        "id": "view-in-github",
        "colab_type": "text"
      },
      "source": [
        "<a href=\"https://colab.research.google.com/github/Prabin1025y/NN-from-scratch/blob/main/NN_from_scratch.ipynb\" target=\"_parent\"><img src=\"https://colab.research.google.com/assets/colab-badge.svg\" alt=\"Open In Colab\"/></a>"
      ]
    },
    {
      "cell_type": "code",
      "execution_count": null,
      "metadata": {
        "id": "I3LX1pnGlMnB"
      },
      "outputs": [],
      "source": [
        "import pandas as pd\n",
        "import numpy as np\n",
        "from matplotlib import pyplot as plt"
      ]
    },
    {
      "cell_type": "code",
      "source": [
        "df_train = pd.read_csv(\"/content/mnist_train.csv\")\n",
        "df_test = pd.read_csv(\"/content/mnist_test.csv\")\n",
        "df_train.shape"
      ],
      "metadata": {
        "colab": {
          "base_uri": "https://localhost:8080/"
        },
        "id": "ntSOdBYWnek0",
        "outputId": "2994f716-3587-4b01-dc93-721e037ba6f6"
      },
      "execution_count": null,
      "outputs": [
        {
          "output_type": "execute_result",
          "data": {
            "text/plain": [
              "(60000, 785)"
            ]
          },
          "metadata": {},
          "execution_count": 2
        }
      ]
    },
    {
      "cell_type": "code",
      "source": [
        "rows, cols = df_train.shape\n",
        "data_train = np.array(df_train) #convert dataframe to numpy array"
      ],
      "metadata": {
        "id": "SxOBVPsZniG1"
      },
      "execution_count": null,
      "outputs": []
    },
    {
      "cell_type": "code",
      "source": [
        "data = data_train.T #transpose it\n",
        "data"
      ],
      "metadata": {
        "colab": {
          "base_uri": "https://localhost:8080/"
        },
        "id": "pL77OdsWwPe1",
        "outputId": "2a1ab1ec-9cb6-4418-b474-01521aac5348"
      },
      "execution_count": null,
      "outputs": [
        {
          "output_type": "execute_result",
          "data": {
            "text/plain": [
              "array([[5, 0, 4, ..., 5, 6, 8],\n",
              "       [0, 0, 0, ..., 0, 0, 0],\n",
              "       [0, 0, 0, ..., 0, 0, 0],\n",
              "       ...,\n",
              "       [0, 0, 0, ..., 0, 0, 0],\n",
              "       [0, 0, 0, ..., 0, 0, 0],\n",
              "       [0, 0, 0, ..., 0, 0, 0]])"
            ]
          },
          "metadata": {},
          "execution_count": 4
        }
      ]
    },
    {
      "cell_type": "code",
      "source": [
        "X_train = data[1:cols]\n",
        "X_train = X_train/255\n",
        "Y_train = data[0]"
      ],
      "metadata": {
        "id": "3K7wVDo4waxD"
      },
      "execution_count": null,
      "outputs": []
    },
    {
      "cell_type": "code",
      "source": [
        "def ReLU(x):\n",
        "  return np.maximum(0, x)\n"
      ],
      "metadata": {
        "id": "z5CHcz150FsY"
      },
      "execution_count": null,
      "outputs": []
    },
    {
      "cell_type": "code",
      "source": [
        "def soft_max(x):\n",
        "  return np.exp(x) / sum(np.exp(x))\n",
        "  # e_x = np.exp(x - np.max(x, axis=0, keepdims=True))\n",
        "  # return e_x / np.sum(e_x, axis=0, keepdims=True)"
      ],
      "metadata": {
        "id": "ke3kLNjA2Izp"
      },
      "execution_count": null,
      "outputs": []
    },
    {
      "cell_type": "code",
      "source": [
        "def one_hot_encode(x, number_of_classes = 10):\n",
        "  encoded_x = np.zeros((len(x), number_of_classes))\n",
        "  for index, label in enumerate(x):\n",
        "    encoded_x[index][label] = 1\n",
        "  return encoded_x.T\n"
      ],
      "metadata": {
        "id": "XR3Vpe0w23tP"
      },
      "execution_count": null,
      "outputs": []
    },
    {
      "cell_type": "code",
      "source": [
        "def derive_ReLU(x):\n",
        "  return x > 0"
      ],
      "metadata": {
        "id": "ZaD2ZXao9qyi"
      },
      "execution_count": null,
      "outputs": []
    },
    {
      "cell_type": "code",
      "source": [
        "\n",
        "def init_params(X):\n",
        "  a0 = X\n",
        "  w1 = np.random.rand(10,784) - 0.5\n",
        "  b1 = np.random.rand(10,1) - 0.5\n",
        "  w2 = np.random.rand(10,10) - 0.5\n",
        "  b2 = np.random.rand(10,1) - 0.5\n",
        "  return a0, w1, b1, w2, b2\n",
        "\n",
        "\n",
        "def forward_prop(a0, w1, b1, w2, b2):\n",
        "  z1 = w1.dot(a0) + b1\n",
        "  a1 = ReLU(z1)\n",
        "\n",
        "  z2 = w2.dot(a1) + b2\n",
        "  a2 = soft_max(z2)\n",
        "  return a1, z1, a2, z2\n",
        "\n",
        "def backward_prop(a0, a1, a2, z1, z2, w2, y_train):\n",
        "  m = a0.shape[1]\n",
        "  y_encoded = one_hot_encode(y_train)\n",
        "\n",
        "  dz2 = a2 - y_encoded\n",
        "  dw2 = (1/m) * dz2.dot(a1.T)\n",
        "  db2 = (1/m) * np.sum(dz2, axis=1, keepdims=True)\n",
        "\n",
        "  dz1 = w2.T.dot(dz2) * derive_ReLU(z1)\n",
        "  dw1 = (1/m) * dz1.dot(a0.T)\n",
        "  db1 = (1/m) * np.sum(dz1, axis=1, keepdims=True)\n",
        "\n",
        "  return dw1, db1, dw2, db2\n",
        "\n",
        "def optimize_params(w1, b1, w2, b2, dw1, db1, dw2, db2, lr):\n",
        "  w1 = w1 - lr * dw1\n",
        "  b1 = b1 - lr * db1\n",
        "  w2 = w2 - lr * dw2\n",
        "  b2 = b2 - lr * db2\n",
        "  return w1, b1, w2, b2\n"
      ],
      "metadata": {
        "id": "q5izkES3xatd"
      },
      "execution_count": null,
      "outputs": []
    },
    {
      "cell_type": "code",
      "source": [
        "def get_acc(a2, y):\n",
        "  return np.sum(np.argmax(a2,0) == y)/ y.size"
      ],
      "metadata": {
        "id": "W0sjMXVrDhdv"
      },
      "execution_count": null,
      "outputs": []
    },
    {
      "cell_type": "code",
      "source": [
        "def gradient_descent(X,Y,iterations, lr):\n",
        "  a0, w1, b1, w2, b2 = init_params(X)\n",
        "\n",
        "  for i in range(iterations):\n",
        "    a1, z1, a2, z2 = forward_prop(a0, w1, b1, w2, b2)\n",
        "    dw1, db1, dw2, db2 = backward_prop(a0,a1,a2,z1,z2,w2,Y)\n",
        "    w1, b1, w2, b2 = optimize_params(w1, b1, w2, b2, dw1, db1, dw2, db2, lr)\n",
        "\n",
        "    if i%10 == 0:\n",
        "      print(\"Iteration: \", i)\n",
        "      print(\"Accuracy:\", get_acc(a2, Y))\n",
        "  return w1, b1, w2, b2\n",
        "\n"
      ],
      "metadata": {
        "id": "cuac9IOkAV-f"
      },
      "execution_count": null,
      "outputs": []
    },
    {
      "cell_type": "code",
      "source": [
        "w1, b1, w2, b2 = gradient_descent(X_train, Y_train, 300, 0.1)"
      ],
      "metadata": {
        "colab": {
          "base_uri": "https://localhost:8080/"
        },
        "id": "Jy1WdzOjzqtk",
        "outputId": "99814f3a-3e4c-46b8-c13a-c76c1a8987f6"
      },
      "execution_count": null,
      "outputs": [
        {
          "output_type": "stream",
          "name": "stdout",
          "text": [
            "Iteration:  0\n",
            "Accuracy: 0.08296666666666666\n",
            "Iteration:  10\n",
            "Accuracy: 0.2173\n",
            "Iteration:  20\n",
            "Accuracy: 0.34313333333333335\n",
            "Iteration:  30\n",
            "Accuracy: 0.43706666666666666\n",
            "Iteration:  40\n",
            "Accuracy: 0.5042166666666666\n",
            "Iteration:  50\n",
            "Accuracy: 0.5549333333333333\n",
            "Iteration:  60\n",
            "Accuracy: 0.5963666666666667\n",
            "Iteration:  70\n",
            "Accuracy: 0.63015\n",
            "Iteration:  80\n",
            "Accuracy: 0.6566166666666666\n",
            "Iteration:  90\n",
            "Accuracy: 0.6772833333333333\n",
            "Iteration:  100\n",
            "Accuracy: 0.6936166666666667\n",
            "Iteration:  110\n",
            "Accuracy: 0.70795\n",
            "Iteration:  120\n",
            "Accuracy: 0.7203666666666667\n",
            "Iteration:  130\n",
            "Accuracy: 0.7301833333333333\n",
            "Iteration:  140\n",
            "Accuracy: 0.7393833333333333\n",
            "Iteration:  150\n",
            "Accuracy: 0.7469666666666667\n",
            "Iteration:  160\n",
            "Accuracy: 0.7550166666666667\n",
            "Iteration:  170\n",
            "Accuracy: 0.7619666666666667\n",
            "Iteration:  180\n",
            "Accuracy: 0.7684666666666666\n",
            "Iteration:  190\n",
            "Accuracy: 0.7745833333333333\n",
            "Iteration:  200\n",
            "Accuracy: 0.7804333333333333\n",
            "Iteration:  210\n",
            "Accuracy: 0.7859333333333334\n",
            "Iteration:  220\n",
            "Accuracy: 0.7910666666666667\n",
            "Iteration:  230\n",
            "Accuracy: 0.79575\n",
            "Iteration:  240\n",
            "Accuracy: 0.7999\n",
            "Iteration:  250\n",
            "Accuracy: 0.8039\n",
            "Iteration:  260\n",
            "Accuracy: 0.80805\n",
            "Iteration:  270\n",
            "Accuracy: 0.8118\n",
            "Iteration:  280\n",
            "Accuracy: 0.8152833333333334\n",
            "Iteration:  290\n",
            "Accuracy: 0.81835\n"
          ]
        }
      ]
    },
    {
      "cell_type": "code",
      "source": [
        "def make_prediction(X, w1, b1, w2, b2):\n",
        "  ___, __, _, a2 = forward_prop(X, w1, b1, w2, b2)\n",
        "  prediction = np.argmax(a2, 0)\n",
        "  return prediction\n",
        "\n",
        "def test_prediction(X,Y, index, w1, b1, w2, b2):\n",
        "  current_image = X[:, index, None]\n",
        "  prediction = make_prediction(current_image, w1, b1, w2, b2)\n",
        "  label = Y[index]\n",
        "\n",
        "  print(\"prediction: \", prediction)\n",
        "  print(\"label: \", label)\n",
        "\n",
        "  current_image = current_image.reshape((28,28)) * 255\n",
        "  # plt.gray()\n",
        "  plt.imshow(current_image, interpolation=\"nearest\")\n",
        "  plt.show()\n"
      ],
      "metadata": {
        "id": "iJ_HEjT5thFT"
      },
      "execution_count": null,
      "outputs": []
    },
    {
      "cell_type": "code",
      "source": [
        "n, m = df_test.shape\n",
        "data_test = np.array(df_test)\n",
        "data_test = data_test.T\n",
        "Y_test = data_test[0]\n",
        "X_test = data_test[1:m]"
      ],
      "metadata": {
        "id": "XgVvMshK69Z4"
      },
      "execution_count": null,
      "outputs": []
    },
    {
      "cell_type": "code",
      "source": [
        "test_prediction(X_test, Y_test, 80, w1, b1, w2, b2)"
      ],
      "metadata": {
        "colab": {
          "base_uri": "https://localhost:8080/",
          "height": 540
        },
        "id": "Zm74MSJ78G6L",
        "outputId": "83341ee1-ae42-4ba6-dcf4-c4dce768e009"
      },
      "execution_count": null,
      "outputs": [
        {
          "output_type": "stream",
          "name": "stdout",
          "text": [
            "prediction:  [7]\n",
            "label:  7\n"
          ]
        },
        {
          "output_type": "stream",
          "name": "stderr",
          "text": [
            "<ipython-input-7-6437b1ed27fa>:2: RuntimeWarning: overflow encountered in exp\n",
            "  return np.exp(x) / sum(np.exp(x))\n",
            "<ipython-input-7-6437b1ed27fa>:2: RuntimeWarning: invalid value encountered in divide\n",
            "  return np.exp(x) / sum(np.exp(x))\n"
          ]
        },
        {
          "output_type": "display_data",
          "data": {
            "text/plain": [
              "<Figure size 640x480 with 1 Axes>"
            ],
            "image/png": "[encoded data removed]"
          },
          "metadata": {}
        }
      ]
    }
  ]
}